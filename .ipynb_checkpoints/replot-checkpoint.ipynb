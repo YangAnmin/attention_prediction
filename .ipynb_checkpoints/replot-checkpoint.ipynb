{
 "cells": [
  {
   "cell_type": "code",
   "execution_count": 2,
   "metadata": {},
   "outputs": [],
   "source": [
    "import numpy as np\n",
    "import os\n",
    "\n",
    "from algo import *\n",
    "\n",
    "from nilearn import image,plotting\n",
    "import nibabel as nib\n",
    "\n",
    "from statsmodels.stats.multitest import fdrcorrection"
   ]
  },
  {
   "cell_type": "code",
   "execution_count": 3,
   "metadata": {},
   "outputs": [],
   "source": [
    "# data path\n",
    "root_path = '/users/anmin/desktop/results_duplicate/reorganized_results'\n",
    "save_path = '/users/anmin/working/attention_results_recalculated/plots'\n",
    "\n",
    "num_voxels = {}\n",
    "\n",
    "present_threshold = str(round((1 - 149270/902629),2)*100)+'%'"
   ]
  },
  {
   "cell_type": "code",
   "execution_count": 4,
   "metadata": {},
   "outputs": [
    {
     "data": {
      "text/plain": [
       "'83.0%'"
      ]
     },
     "execution_count": 4,
     "metadata": {},
     "output_type": "execute_result"
    }
   ],
   "source": [
    "present_threshold"
   ]
  },
  {
   "cell_type": "code",
   "execution_count": 110,
   "metadata": {},
   "outputs": [],
   "source": [
    "### plot beta map(uncorrected) #######\n",
    "beta_path_fa = os.path.join(root_path,'train_fa','beta_raw.nii.gz')\n",
    "plot=plotting.view_img_on_surf(beta_path_fa, threshold=present_threshold, surf_mesh='fsaverage')\n",
    "plot.save_as_html(os.path.join(save_path,'train_fa','fa_raw.html'))"
   ]
  },
  {
   "cell_type": "code",
   "execution_count": 111,
   "metadata": {},
   "outputs": [],
   "source": [
    "beta_path_sa = os.path.join(root_path,'train_sa','beta_uncorrect.nii.gz')\n",
    "plot=plotting.view_img_on_surf(beta_path_sa, threshold=present_threshold, surf_mesh='fsaverage')\n",
    "plot.save_as_html(os.path.join(save_path,'train_sa','sa_raw.html'))"
   ]
  },
  {
   "cell_type": "code",
   "execution_count": 20,
   "metadata": {},
   "outputs": [
    {
     "name": "stderr",
     "output_type": "stream",
     "text": [
      "<ipython-input-20-af44eb0ab406>:2: DeprecationWarning: get_data() is deprecated in favor of get_fdata(), which has a more predictable return type. To obtain get_data() behavior going forward, use numpy.asanyarray(img.dataobj).\n",
      "\n",
      "* deprecated from version: 3.0\n",
      "* Will raise <class 'nibabel.deprecator.ExpiredDeprecationError'> as of version: 5.0\n",
      "  beta_fa = beta_fa.get_data()\n",
      "<ipython-input-20-af44eb0ab406>:7: DeprecationWarning: get_data() is deprecated in favor of get_fdata(), which has a more predictable return type. To obtain get_data() behavior going forward, use numpy.asanyarray(img.dataobj).\n",
      "\n",
      "* deprecated from version: 3.0\n",
      "* Will raise <class 'nibabel.deprecator.ExpiredDeprecationError'> as of version: 5.0\n",
      "  beta_sa = beta_sa.get_data()\n"
     ]
    }
   ],
   "source": [
    "beta_fa = nib.load(beta_path_fa)\n",
    "beta_fa = beta_fa.get_data()\n",
    "num_voxels['feature_num'] = beta_fa.size\n",
    "num_voxels['fa_with_value'] = np.sum(beta_fa!=0)\n",
    "\n",
    "beta_sa = nib.load(beta_path_sa)\n",
    "beta_sa = beta_sa.get_data()\n",
    "num_voxels['sa_with_value'] = np.sum(beta_sa!=0)"
   ]
  },
  {
   "cell_type": "code",
   "execution_count": 36,
   "metadata": {},
   "outputs": [],
   "source": [
    "### plot beta map(bonferroni corrected) #######\n",
    "fa_p_path = os.path.join(root_path,'train_fa','boot_fa_z.npy')\n",
    "sa_p_path = os.path.join(root_path,'train_sa','boot_sa_z.npy')\n",
    "\n",
    "fa_p_array_full = np.load(fa_p_path)\n",
    "sa_p_array_full = np.load(sa_p_path)\n",
    "mask_nan = np.load(os.path.join(root_path,'mask_NaN.npy'))\n",
    "\n",
    "# only voxels not Nan are preceeded with p-value correction\n",
    "fa_p_array_masked = fa_p_array_full[mask_nan]\n",
    "sa_p_array_masked = sa_p_array_full[mask_nan]\n",
    "\n",
    "p_threshold = 0.01"
   ]
  },
  {
   "cell_type": "code",
   "execution_count": 37,
   "metadata": {},
   "outputs": [],
   "source": [
    "# fa p mask\n",
    "mask1_fa = (fa_p_array_masked>(1-p_threshold/2))\n",
    "mask2_fa = (fa_p_array_masked<(p_threshold/2))\n",
    "is_above_t_fa = np.logical_or(mask1_fa,mask2_fa)\n",
    "mask_t_fa = mask_back(mask_nan,is_above_t_fa,mask_type='beta')\n",
    "\n",
    "# sa p mask\n",
    "mask1_sa = (sa_p_array_masked>(1-p_threshold/2))\n",
    "mask2_sa = (sa_p_array_masked<(p_threshold/2))\n",
    "is_above_t_sa = np.logical_or(mask1_sa,mask2_sa)\n",
    "mask_t_sa = mask_back(mask_nan,is_above_t_sa,mask_type='beta')"
   ]
  },
  {
   "cell_type": "code",
   "execution_count": 48,
   "metadata": {},
   "outputs": [
    {
     "name": "stderr",
     "output_type": "stream",
     "text": [
      "<ipython-input-48-fcca8086b892>:2: DeprecationWarning: get_data() is deprecated in favor of get_fdata(), which has a more predictable return type. To obtain get_data() behavior going forward, use numpy.asanyarray(img.dataobj).\n",
      "\n",
      "* deprecated from version: 3.0\n",
      "* Will raise <class 'nibabel.deprecator.ExpiredDeprecationError'> as of version: 5.0\n",
      "  beta_fa = beta_fa.get_data()\n"
     ]
    }
   ],
   "source": [
    "beta_fa = nib.load(beta_path_fa)\n",
    "beta_fa = beta_fa.get_data()"
   ]
  },
  {
   "cell_type": "code",
   "execution_count": 56,
   "metadata": {},
   "outputs": [
    {
     "name": "stdout",
     "output_type": "stream",
     "text": [
      "max: 0.002686288207769394\n",
      "min: -0.0022471530828624964\n",
      "mean: 2.7796254471468274e-06\n"
     ]
    },
    {
     "data": {
      "text/plain": [
       "76294"
      ]
     },
     "execution_count": 56,
     "metadata": {},
     "output_type": "execute_result"
    }
   ],
   "source": [
    "print(f'max: {np.nanmax(beta_fa)}')\n",
    "print(f'min: {np.nanmin(beta_fa)}')\n",
    "print(f'mean: {np.nanmean(beta_fa)}')\n",
    "np.sum(beta_fa>0)\n",
    "np.sum(beta_fa<0)"
   ]
  },
  {
   "cell_type": "code",
   "execution_count": 91,
   "metadata": {},
   "outputs": [
    {
     "name": "stderr",
     "output_type": "stream",
     "text": [
      "<ipython-input-91-827e335e4bf4>:6: DeprecationWarning: get_data() is deprecated in favor of get_fdata(), which has a more predictable return type. To obtain get_data() behavior going forward, use numpy.asanyarray(img.dataobj).\n",
      "\n",
      "* deprecated from version: 3.0\n",
      "* Will raise <class 'nibabel.deprecator.ExpiredDeprecationError'> as of version: 5.0\n",
      "  ori_shape = np.array(beta_matrix_fa.get_data()).shape\n"
     ]
    }
   ],
   "source": [
    "# plot nan_mask \n",
    "mask_nan = np.load(os.path.join(root_path,'mask_NaN.npy'))\n",
    "mask_nan_converted = mask_nan.astype(int) + 1 \n",
    "\n",
    "beta_matrix_fa = nib.load(beta_path_fa)\n",
    "ori_shape = np.array(beta_matrix_fa.get_data()).shape\n",
    "affine = beta_matrix_fa.affine.copy()\n",
    "hdr = beta_matrix_fa.header.copy()\n",
    " \n",
    "nan_mni = nib.Nifti1Image(mask_nan_converted.reshape(ori_shape),affine,hdr)"
   ]
  },
  {
   "cell_type": "code",
   "execution_count": 92,
   "metadata": {},
   "outputs": [],
   "source": [
    "nib.save(nan_mni,'/users/anmin/working/attention_results_recalculated/analized_data/nan_mask.nii.gz')"
   ]
  },
  {
   "cell_type": "code",
   "execution_count": 109,
   "metadata": {},
   "outputs": [],
   "source": [
    "plot=plotting.view_img_on_surf(nan_mni, surf_mesh='fsaverage',cmap='Accent')\n",
    "plot.save_as_html(os.path.join(save_path,'nan_mask.html'))"
   ]
  },
  {
   "cell_type": "code",
   "execution_count": null,
   "metadata": {},
   "outputs": [],
   "source": []
  }
 ],
 "metadata": {
  "kernelspec": {
   "display_name": "Python 3",
   "language": "python",
   "name": "python3"
  },
  "language_info": {
   "codemirror_mode": {
    "name": "ipython",
    "version": 3
   },
   "file_extension": ".py",
   "mimetype": "text/x-python",
   "name": "python",
   "nbconvert_exporter": "python",
   "pygments_lexer": "ipython3",
   "version": "3.8.5"
  }
 },
 "nbformat": 4,
 "nbformat_minor": 4
}
