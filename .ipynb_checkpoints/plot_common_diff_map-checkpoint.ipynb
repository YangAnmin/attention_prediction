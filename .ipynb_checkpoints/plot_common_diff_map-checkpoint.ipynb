{
 "cells": [
  {
   "cell_type": "markdown",
   "metadata": {},
   "source": [
    "# Plot common and diff map, uncorrected"
   ]
  },
  {
   "cell_type": "code",
   "execution_count": 1,
   "metadata": {},
   "outputs": [
    {
     "name": "stderr",
     "output_type": "stream",
     "text": [
      "/Users/anmin/.local/lib/python3.8/site-packages/nilearn/datasets/__init__.py:87: FutureWarning: Fetchers from the nilearn.datasets module will be updated in version 0.9 to return python strings instead of bytes and Pandas dataframes instead of Numpy arrays.\n",
      "  warn(\"Fetchers from the nilearn.datasets module will be \"\n"
     ]
    }
   ],
   "source": [
    "import numpy as np\n",
    "import os\n",
    "\n",
    "from algo import *\n",
    "\n",
    "from nilearn import image,plotting\n",
    "import nibabel as nib"
   ]
  },
  {
   "cell_type": "code",
   "execution_count": 3,
   "metadata": {},
   "outputs": [],
   "source": [
    "# define data path \n",
    "root_path = '/users/anmin/desktop/results_duplicate/reorganized_results/plot_brain'\n",
    "save_path = '/users/anmin/working/attention_results/plots'"
   ]
  },
  {
   "cell_type": "code",
   "execution_count": 6,
   "metadata": {},
   "outputs": [],
   "source": [
    "# thershold for all voxels not Nan\n",
    "present_threshold = str(round((1 - 149270/902629),2)*100)+'%'"
   ]
  },
  {
   "cell_type": "code",
   "execution_count": 8,
   "metadata": {},
   "outputs": [],
   "source": [
    "# name list \n",
    "names = ['common_beta_fa','common_beta_sa','diff_beta_fa','diff_beta_sa']\n",
    "\n",
    "# for loop to plot brain \n",
    "for name in names:\n",
    "    data_path = os.path.join(root_path,name+'.nii.gz')\n",
    "    plot = plotting.view_img_on_surf(data_path, threshold=present_threshold, surf_mesh='fsaverage')\n",
    "    plot.save_as_html(os.path.join(save_path,name+'.html'))"
   ]
  },
  {
   "cell_type": "code",
   "execution_count": null,
   "metadata": {},
   "outputs": [],
   "source": []
  }
 ],
 "metadata": {
  "kernelspec": {
   "display_name": "Python 3",
   "language": "python",
   "name": "python3"
  },
  "language_info": {
   "codemirror_mode": {
    "name": "ipython",
    "version": 3
   },
   "file_extension": ".py",
   "mimetype": "text/x-python",
   "name": "python",
   "nbconvert_exporter": "python",
   "pygments_lexer": "ipython3",
   "version": "3.8.5"
  }
 },
 "nbformat": 4,
 "nbformat_minor": 4
}
