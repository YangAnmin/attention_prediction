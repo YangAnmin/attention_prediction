{
 "cells": [
  {
   "cell_type": "markdown",
   "metadata": {},
   "source": [
    "# Using common and diff maps predicting labels "
   ]
  },
  {
   "cell_type": "code",
   "execution_count": 38,
   "metadata": {},
   "outputs": [],
   "source": [
    "import numpy as np\n",
    "import pandas as pd\n",
    "import os\n",
    "\n",
    "from algo import *\n",
    "\n",
    "from sklearn.decomposition import PCA\n",
    "from sklearn.preprocessing import scale\n",
    "from sklearn.linear_model import LogisticRegression\n",
    "from sklearn.metrics import classification_report"
   ]
  },
  {
   "cell_type": "code",
   "execution_count": 39,
   "metadata": {},
   "outputs": [],
   "source": [
    "# define data path\n",
    "path = '/nfs/s2/userhome/yanganmin/workingdir/attention_data_complete/train_test_data'\n",
    "beta_path = '/nfs/s2/userhome/yanganmin/workingdir/attention_predict/reorganized_results/common_diff_map'"
   ]
  },
  {
   "cell_type": "code",
   "execution_count": 40,
   "metadata": {},
   "outputs": [],
   "source": [
    "# read sa train and test data, also test on fa\n",
    "train_X_sa = np.load(os.path.join(path,'train_X_sa.npy'))\n",
    "test_X_sa = np.load(os.path.join(path,'test_X_sa.npy'))\n",
    "train_Y_sa = np.load(os.path.join(path,'train_Y_sa.npy'))\n",
    "test_Y_sa = np.load(os.path.join(path,'test_Y_sa.npy'))\n",
    "X_fa = np.load(os.path.join(path,'X_fa.npy'))\n",
    "Y_fa = np.load(os.path.join(path,'Y_fa.npy'))\n",
    "\n",
    "mask_NaN = np.load(os.path.join(path,'mask_NaN.npy'))\n",
    "\n",
    "beta_common = np.load(os.path.join(beta_path,'common_beta_sa.npy'))\n",
    "beta_diff = np.load(os.path.join(beta_path,'diff_beta_sa.npy'))\n",
    "\n",
    "beta_common = beta_common[mask_NaN]\n",
    "beta_diff = beta_diff[mask_NaN] # reduce dimention to 140000 to eliminate Nan"
   ]
  },
  {
   "cell_type": "markdown",
   "metadata": {},
   "source": [
    "# Reduce dimention of features"
   ]
  },
  {
   "cell_type": "code",
   "execution_count": 41,
   "metadata": {},
   "outputs": [],
   "source": [
    "# scale data\n",
    "train_X_sa = scale(train_X_sa)\n",
    "test_X_sa = scale(test_X_sa)\n",
    "X_fa = scale(X_fa)\n",
    "\n",
    "# reduce dimention with PCA\n",
    "pca = PCA() # reduce dimentions to the number of observations\n",
    "pca.fit(train_X_sa)\n",
    "train_X_sa = pca.transform(train_X_sa)\n",
    "test_X_sa = pca.transform(test_X_sa)\n",
    "X_fa = pca.transform(X_fa)\n",
    "\n",
    "beta_common = pca.transform(beta_common.reshape(1,-1))\n",
    "beta_diff = pca.transform(beta_diff.reshape(1,-1))"
   ]
  },
  {
   "cell_type": "markdown",
   "metadata": {},
   "source": [
    "# Build Logistic Regression, replace beta"
   ]
  },
  {
   "cell_type": "code",
   "execution_count": 42,
   "metadata": {},
   "outputs": [],
   "source": [
    "C_best = 0.95 # obtained from last prediction\n",
    "clf = LogisticRegression(penalty='l1',C=C_best,solver='liblinear')\n",
    "clf.fit(train_X_sa,train_Y_sa)\n",
    "LR_beta_iszero = clf.coef_[0]"
   ]
  },
  {
   "cell_type": "code",
   "execution_count": 43,
   "metadata": {},
   "outputs": [
    {
     "name": "stdout",
     "output_type": "stream",
     "text": [
      "Train sa\n",
      "              precision    recall  f1-score   support\n",
      "\n",
      "           0       1.00      1.00      1.00       157\n",
      "           1       1.00      1.00      1.00       157\n",
      "\n",
      "    accuracy                           1.00       314\n",
      "   macro avg       1.00      1.00      1.00       314\n",
      "weighted avg       1.00      1.00      1.00       314\n",
      "\n",
      "\n",
      "Test sa\n",
      "              precision    recall  f1-score   support\n",
      "\n",
      "           0       0.62      0.64      0.63        78\n",
      "           1       0.63      0.60      0.61        78\n",
      "\n",
      "    accuracy                           0.62       156\n",
      "   macro avg       0.62      0.62      0.62       156\n",
      "weighted avg       0.62      0.62      0.62       156\n",
      "\n",
      "\n",
      "Fa\n",
      "              precision    recall  f1-score   support\n",
      "\n",
      "           0       0.53      0.52      0.52       235\n",
      "           1       0.53      0.53      0.53       235\n",
      "\n",
      "    accuracy                           0.53       470\n",
      "   macro avg       0.53      0.53      0.53       470\n",
      "weighted avg       0.53      0.53      0.53       470\n",
      "\n"
     ]
    }
   ],
   "source": [
    "# feature reduction \n",
    "beta_cutoff = 0.0003 # value aquired from previous analysis\n",
    "mask_beta = (abs(LR_beta_iszero) > beta_cutoff)\n",
    "train_X_sa = train_X_sa[:,mask_beta]\n",
    "test_X_sa = test_X_sa[:,mask_beta]\n",
    "X_fa = X_fa[:,mask_beta]\n",
    "\n",
    "clf.fit(train_X_sa,train_Y_sa)\n",
    "\n",
    "predict_Y_ori_train_sa = clf.predict(train_X_sa)\n",
    "predict_Y_ori_test_sa = clf.predict(test_X_sa)\n",
    "predict_Y_ori_fa = clf.predict(X_fa)\n",
    "\n",
    "report_ori_train_sa = classification_report(train_Y_sa,predict_Y_ori_train_sa)\n",
    "report_ori_test_sa = classification_report(test_Y_sa,predict_Y_ori_test_sa)\n",
    "reprot_ori_fa = classification_report(Y_fa,predict_Y_ori_fa)\n",
    "\n",
    "print('Train sa')\n",
    "print(report_ori_train_sa)\n",
    "print('\\nTest sa')\n",
    "print(report_ori_test_sa)\n",
    "print('\\nFa')\n",
    "print(reprot_ori_fa)"
   ]
  },
  {
   "cell_type": "markdown",
   "metadata": {},
   "source": [
    "## predict with common beta"
   ]
  },
  {
   "cell_type": "code",
   "execution_count": 44,
   "metadata": {},
   "outputs": [
    {
     "name": "stdout",
     "output_type": "stream",
     "text": [
      "Common Train sa\n",
      "              precision    recall  f1-score   support\n",
      "\n",
      "           0       0.99      1.00      0.99       157\n",
      "           1       1.00      0.99      0.99       157\n",
      "\n",
      "    accuracy                           0.99       314\n",
      "   macro avg       0.99      0.99      0.99       314\n",
      "weighted avg       0.99      0.99      0.99       314\n",
      "\n",
      "\n",
      "Common Test sa\n",
      "              precision    recall  f1-score   support\n",
      "\n",
      "           0       0.61      0.60      0.61        78\n",
      "           1       0.61      0.62      0.61        78\n",
      "\n",
      "    accuracy                           0.61       156\n",
      "   macro avg       0.61      0.61      0.61       156\n",
      "weighted avg       0.61      0.61      0.61       156\n",
      "\n",
      "\n",
      "Common fa\n",
      "              precision    recall  f1-score   support\n",
      "\n",
      "           0       0.53      0.52      0.52       235\n",
      "           1       0.53      0.53      0.53       235\n",
      "\n",
      "    accuracy                           0.53       470\n",
      "   macro avg       0.53      0.53      0.53       470\n",
      "weighted avg       0.53      0.53      0.53       470\n",
      "\n"
     ]
    }
   ],
   "source": [
    "clf.coef_ = beta_common[0][mask_beta]\n",
    "clf.coef_ = clf.coef_.reshape(1,-1)\n",
    "\n",
    "predict_Y_common_train_sa = clf.predict(train_X_sa)\n",
    "predict_Y_common_test_sa = clf.predict(test_X_sa)\n",
    "predict_Y_common_fa = clf.predict(X_fa)\n",
    "\n",
    "report_common_train_sa = classification_report(train_Y_sa,predict_Y_common_train_sa)\n",
    "report_common_test_sa = classification_report(test_Y_sa,predict_Y_common_test_sa)\n",
    "report_common_fa = classification_report(Y_fa,predict_Y_common_fa)\n",
    "\n",
    "print('Common Train sa')\n",
    "print(report_common_train_sa)\n",
    "print('\\nCommon Test sa')\n",
    "print(report_common_test_sa)\n",
    "print('\\nCommon fa')\n",
    "print(report_common_fa)"
   ]
  },
  {
   "cell_type": "markdown",
   "metadata": {},
   "source": [
    "## predict with diff beta "
   ]
  },
  {
   "cell_type": "code",
   "execution_count": 45,
   "metadata": {},
   "outputs": [
    {
     "name": "stdout",
     "output_type": "stream",
     "text": [
      "Diff Train sa\n",
      "              precision    recall  f1-score   support\n",
      "\n",
      "           0       1.00      1.00      1.00       157\n",
      "           1       1.00      1.00      1.00       157\n",
      "\n",
      "    accuracy                           1.00       314\n",
      "   macro avg       1.00      1.00      1.00       314\n",
      "weighted avg       1.00      1.00      1.00       314\n",
      "\n",
      "\n",
      "Diff Test sa\n",
      "              precision    recall  f1-score   support\n",
      "\n",
      "           0       0.62      0.63      0.62        78\n",
      "           1       0.62      0.62      0.62        78\n",
      "\n",
      "    accuracy                           0.62       156\n",
      "   macro avg       0.62      0.62      0.62       156\n",
      "weighted avg       0.62      0.62      0.62       156\n",
      "\n",
      "\n",
      "Diff fa\n",
      "              precision    recall  f1-score   support\n",
      "\n",
      "           0       0.56      0.58      0.57       235\n",
      "           1       0.57      0.55      0.56       235\n",
      "\n",
      "    accuracy                           0.57       470\n",
      "   macro avg       0.57      0.57      0.57       470\n",
      "weighted avg       0.57      0.57      0.57       470\n",
      "\n"
     ]
    }
   ],
   "source": [
    "clf.coef_ = beta_diff[0][mask_beta]\n",
    "clf.coef_ = clf.coef_.reshape(1,-1)\n",
    "\n",
    "predict_Y_diff_train_sa = clf.predict(train_X_sa)\n",
    "predict_Y_diff_test_sa = clf.predict(test_X_sa)\n",
    "predict_Y_diff_fa = clf.predict(X_fa)\n",
    "\n",
    "report_diff_train_sa = classification_report(train_Y_sa,predict_Y_diff_train_sa)\n",
    "report_diff_test_sa = classification_report(test_Y_sa,predict_Y_diff_test_sa)\n",
    "report_diff_fa = classification_report(Y_fa,predict_Y_diff_fa)\n",
    "\n",
    "print('Diff Train sa')\n",
    "print(report_diff_train_sa)\n",
    "print('\\nDiff Test sa')\n",
    "print(report_diff_test_sa)\n",
    "print('\\nDiff fa')\n",
    "print(report_diff_fa)"
   ]
  },
  {
   "cell_type": "code",
   "execution_count": null,
   "metadata": {},
   "outputs": [],
   "source": []
  }
 ],
 "metadata": {
  "kernelspec": {
   "display_name": "Python 3",
   "language": "python",
   "name": "python3"
  },
  "language_info": {
   "codemirror_mode": {
    "name": "ipython",
    "version": 3
   },
   "file_extension": ".py",
   "mimetype": "text/x-python",
   "name": "python",
   "nbconvert_exporter": "python",
   "pygments_lexer": "ipython3",
   "version": "3.8.5"
  }
 },
 "nbformat": 4,
 "nbformat_minor": 4
}
