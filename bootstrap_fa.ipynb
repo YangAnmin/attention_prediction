{
 "cells": [
  {
   "cell_type": "markdown",
   "metadata": {},
   "source": [
    "# Bootstrap from training samplt for fa\n",
    "calculate the time required in every step of bootstrap full procedure "
   ]
  },
  {
   "cell_type": "code",
   "execution_count": 11,
   "metadata": {},
   "outputs": [],
   "source": [
    "import numpy as np\n",
    "import pandas as pd\n",
    "import os\n",
    "import matplotlib.pyplot as plt\n",
    "import seaborn as sns\n",
    "\n",
    "from algo import *\n",
    "\n",
    "from sklearn.decomposition import PCA\n",
    "from sklearn.preprocessing import scale\n",
    "from sklearn.model_selection import LeaveOneOut,GridSearchCV\n",
    "from sklearn.linear_model import LogisticRegression\n",
    "from sklearn.metrics import classification_report\n",
    "\n",
    "import nibabel as nib\n",
    "import time "
   ]
  },
  {
   "cell_type": "markdown",
   "metadata": {},
   "source": [
    "# Read corresponding data"
   ]
  },
  {
   "cell_type": "code",
   "execution_count": 27,
   "metadata": {},
   "outputs": [],
   "source": [
    "# define data path\n",
    "path = '/nfs/s2/userhome/yanganmin/workingdir/attention_data_complete/train_test_data'\n",
    "\n",
    "# read fa train and test data, also test on sa\n",
    "train_X_fa = np.load(os.path.join(path,'train_X_fa.npy'))\n",
    "test_X_fa = np.load(os.path.join(path,'test_X_fa.npy'))\n",
    "train_Y_fa = np.load(os.path.join(path,'train_Y_fa.npy'))\n",
    "test_Y_fa = np.load(os.path.join(path,'test_Y_fa.npy'))\n",
    "X_sa = np.load(os.path.join(path,'X_sa.npy'))\n",
    "Y_sa = np.load(os.path.join(path,'Y_sa.npy'))\n",
    "\n",
    "mask_NaN = np.load(os.path.join(path,'mask_NaN.npy'))"
   ]
  },
  {
   "cell_type": "markdown",
   "metadata": {},
   "source": [
    "# Scale irrelavant input "
   ]
  },
  {
   "cell_type": "code",
   "execution_count": 17,
   "metadata": {},
   "outputs": [],
   "source": [
    "test_X_fa = scale(test_X_fa)\n",
    "X_sa = scale(X_sa)"
   ]
  },
  {
   "cell_type": "markdown",
   "metadata": {},
   "source": [
    "# Calculate time in every bootstrap procedure"
   ]
  },
  {
   "cell_type": "code",
   "execution_count": 13,
   "metadata": {},
   "outputs": [],
   "source": [
    "boot_coef = np.zeros(mask_NaN.shape[0])\n",
    "train_accuracy = []\n",
    "test_accuracy = []\n",
    "sa_accuracy = []\n",
    "concat_data = np.c_[train_X_fa,train_Y_fa]\n",
    "time_dic = {}"
   ]
  },
  {
   "cell_type": "markdown",
   "metadata": {},
   "source": [
    "## time of bootstrap datas from train sample "
   ]
  },
  {
   "cell_type": "code",
   "execution_count": 14,
   "metadata": {},
   "outputs": [
    {
     "name": "stdout",
     "output_type": "stream",
     "text": [
      "Using time : 132.5588836669922s.\n"
     ]
    }
   ],
   "source": [
    "start = time.time()\n",
    "bootstraped_data = bootstrap_data(concat_data)\n",
    "X = bootstraped_data[:,:-1] \n",
    "Y = bootstraped_data[:,-1]\n",
    "end = time.time()\n",
    "time_dic['bootstrap_data'] = end-start\n",
    "print(f'Using time : {end-start}s.')"
   ]
  },
  {
   "cell_type": "markdown",
   "metadata": {},
   "source": [
    "## time of PCA "
   ]
  },
  {
   "cell_type": "code",
   "execution_count": 29,
   "metadata": {},
   "outputs": [
    {
     "name": "stdout",
     "output_type": "stream",
     "text": [
      "Using time : 38.51430559158325s.\n"
     ]
    }
   ],
   "source": [
    "start = time.time()\n",
    "\n",
    "# scale data\n",
    "train_X_fa = scale(X)\n",
    "\n",
    "# rename Y \n",
    "train_Y_fa = Y\n",
    "\n",
    "# reduce dimention with PCA\n",
    "pca = PCA() # reduce dimentions to the number of observations\n",
    "pca.fit(train_X_fa)\n",
    "train_X_fa_pc = pca.transform(train_X_fa)\n",
    "test_X_fa_pc = pca.transform(test_X_fa)\n",
    "X_sa_pc = pca.transform(X_sa)\n",
    "\n",
    "end = time.time()\n",
    "time_dic['PCA'] = end-start\n",
    "print(f'Using time : {end-start}s.')"
   ]
  },
  {
   "cell_type": "markdown",
   "metadata": {},
   "source": [
    "## Grid search for beta hyper-parameter "
   ]
  },
  {
   "cell_type": "code",
   "execution_count": 19,
   "metadata": {},
   "outputs": [
    {
     "name": "stdout",
     "output_type": "stream",
     "text": [
      "Best hyper-Parameter C is 0.05.\n",
      "Using time : 4.864996433258057s.\n"
     ]
    }
   ],
   "source": [
    "start = time.time()\n",
    "\n",
    "# grid-search for best C parameter \n",
    "tuned_parameters = [{'C': np.arange(0.05,1.05,0.05)}]\n",
    "clf = GridSearchCV(LogisticRegression(penalty='l1',solver='liblinear'),tuned_parameters,cv=10,scoring='f1')\n",
    "clf.fit(train_X_fa_pc, test_Y_fa)\n",
    "\n",
    "C_best = clf.best_params_['C']\n",
    "\n",
    "print(f'Best hyper-Parameter C is {C_best}.')\n",
    "\n",
    "end = time.time()\n",
    "time_dic['hyper parameter c'] = end-start\n",
    "print(f'Using time : {end-start}s.')"
   ]
  },
  {
   "cell_type": "code",
   "execution_count": 20,
   "metadata": {},
   "outputs": [],
   "source": [
    "clf = LogisticRegression(penalty='l1',solver='liblinear',C=C_best) # C value determined by grid search"
   ]
  },
  {
   "cell_type": "code",
   "execution_count": 22,
   "metadata": {},
   "outputs": [],
   "source": [
    "clf.fit(train_X_fa_pc,test_Y_fa)\n",
    "LR_beta_mean = clf.coef_[0]"
   ]
  },
  {
   "cell_type": "markdown",
   "metadata": {},
   "source": [
    "## Gradually rule out PCs with low beta"
   ]
  },
  {
   "cell_type": "code",
   "execution_count": 41,
   "metadata": {},
   "outputs": [
    {
     "data": {
      "text/html": [
       "<div>\n",
       "<style scoped>\n",
       "    .dataframe tbody tr th:only-of-type {\n",
       "        vertical-align: middle;\n",
       "    }\n",
       "\n",
       "    .dataframe tbody tr th {\n",
       "        vertical-align: top;\n",
       "    }\n",
       "\n",
       "    .dataframe thead th {\n",
       "        text-align: right;\n",
       "    }\n",
       "</style>\n",
       "<table border=\"1\" class=\"dataframe\">\n",
       "  <thead>\n",
       "    <tr style=\"text-align: right;\">\n",
       "      <th></th>\n",
       "      <th>beta_cutoff</th>\n",
       "      <th>accuracy</th>\n",
       "    </tr>\n",
       "  </thead>\n",
       "  <tbody>\n",
       "    <tr>\n",
       "      <th>16</th>\n",
       "      <td>0.016</td>\n",
       "      <td>0.551282</td>\n",
       "    </tr>\n",
       "    <tr>\n",
       "      <th>17</th>\n",
       "      <td>0.017</td>\n",
       "      <td>0.551282</td>\n",
       "    </tr>\n",
       "    <tr>\n",
       "      <th>18</th>\n",
       "      <td>0.018000000000000002</td>\n",
       "      <td>0.551282</td>\n",
       "    </tr>\n",
       "  </tbody>\n",
       "</table>\n",
       "</div>"
      ],
      "text/plain": [
       "             beta_cutoff  accuracy\n",
       "16                 0.016  0.551282\n",
       "17                 0.017  0.551282\n",
       "18  0.018000000000000002  0.551282"
      ]
     },
     "execution_count": 41,
     "metadata": {},
     "output_type": "execute_result"
    }
   ],
   "source": [
    "start = time.time()\n",
    "\n",
    "PC_record = {} # dictionary to store predicition accuracy with each phase of reduction of PCs\n",
    "\n",
    "for beta_cutoff in np.arange(0,np.max(abs(LR_beta_mean)),0.001):\n",
    "    mask_beta = (abs(LR_beta_mean) > beta_cutoff)\n",
    "    train_X_fa_masked = train_X_fa_pc[:,mask_beta]\n",
    "    test_X_fa_masked = test_X_fa_pc[:,mask_beta]\n",
    "    \n",
    "    clf.fit(train_X_fa_masked,train_Y_fa)\n",
    "    \n",
    "    acc = clf.score(test_X_fa_masked,test_Y_fa)\n",
    "    PC_record[str(beta_cutoff)] = acc\n",
    "\n",
    "pc_pd = pd.DataFrame({'beta_cutoff':PC_record.keys(),\n",
    "                     'accuracy':PC_record.values()})\n",
    "pc_pd[pc_pd['accuracy'] == pc_pd.max()['accuracy']]   # 问题出在如何得到accuracy 最大的beta_cutoff 上 "
   ]
  },
  {
   "cell_type": "code",
   "execution_count": 33,
   "metadata": {},
   "outputs": [
    {
     "data": {
      "text/plain": [
       "str"
      ]
     },
     "execution_count": 33,
     "metadata": {},
     "output_type": "execute_result"
    }
   ],
   "source": [
    "beta_cutoff_optimized = pc_pd[pc_pd['accuracy'] == pc_pd.max()['accuracy']]['beta_cutoff'][0]\n",
    "beta_cutoff_optimized = float(beta_cutoff_optimized)\n",
    "print(f'optimized_beta_cutoff is {beta_cutoff_optimized}.')\n",
    "\n",
    "end = time.time()\n",
    "time_dic['optimize PC num'] = end-start\n",
    "print(f'Using time : {end-start}s.'"
   ]
  },
  {
   "cell_type": "code",
   "execution_count": null,
   "metadata": {},
   "outputs": [],
   "source": []
  }
 ],
 "metadata": {
  "kernelspec": {
   "display_name": "Python 3",
   "language": "python",
   "name": "python3"
  },
  "language_info": {
   "codemirror_mode": {
    "name": "ipython",
    "version": 3
   },
   "file_extension": ".py",
   "mimetype": "text/x-python",
   "name": "python",
   "nbconvert_exporter": "python",
   "pygments_lexer": "ipython3",
   "version": "3.8.5"
  }
 },
 "nbformat": 4,
 "nbformat_minor": 4
}
