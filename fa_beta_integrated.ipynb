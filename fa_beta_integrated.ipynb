{
 "cells": [
  {
   "cell_type": "markdown",
   "metadata": {},
   "source": [
    "# using integreted beta map of FA to predict labels "
   ]
  },
  {
   "cell_type": "code",
   "execution_count": 72,
   "metadata": {},
   "outputs": [],
   "source": [
    "import numpy as np\n",
    "import pandas as pd\n",
    "import os\n",
    "import matplotlib.pyplot as plt\n",
    "import seaborn as sns\n",
    "\n",
    "from algo import *\n",
    "\n",
    "from sklearn.decomposition import PCA\n",
    "from sklearn.preprocessing import scale\n",
    "from sklearn.model_selection import LeaveOneOut,GridSearchCV\n",
    "from sklearn.linear_model import LogisticRegression\n",
    "from sklearn.metrics import classification_report\n",
    "\n",
    "import nibabel as nib"
   ]
  },
  {
   "cell_type": "code",
   "execution_count": 73,
   "metadata": {},
   "outputs": [],
   "source": [
    "# define data path\n",
    "path = '/nfs/s2/userhome/yanganmin/workingdir/attention_data_complete/train_test_data'\n",
    "beta_path = '/nfs/s2/userhome/yanganmin/workingdir/attention_predict/reorganized_results/common_diff_map'"
   ]
  },
  {
   "cell_type": "code",
   "execution_count": 74,
   "metadata": {},
   "outputs": [],
   "source": [
    "# read fa train and test data, also test on sa\n",
    "train_X_fa = np.load(os.path.join(path,'train_X_fa.npy'))\n",
    "test_X_fa = np.load(os.path.join(path,'test_X_fa.npy'))\n",
    "train_Y_fa = np.load(os.path.join(path,'train_Y_fa.npy'))\n",
    "test_Y_fa = np.load(os.path.join(path,'test_Y_fa.npy'))\n",
    "X_sa = np.load(os.path.join(path,'X_sa.npy'))\n",
    "Y_sa = np.load(os.path.join(path,'Y_sa.npy'))\n",
    "\n",
    "mask_NaN = np.load(os.path.join(path,'mask_NaN.npy'))\n",
    "\n",
    "beta_common = np.load(os.path.join(beta_path,'common_beta_fa.npy'))\n",
    "beta_diff = np.load(os.path.join(beta_path,'diff_beta_fa.npy'))\n",
    "\n",
    "beta_common = beta_common[mask_NaN]\n",
    "beta_diff = beta_diff[mask_NaN] # reduce dimention to 140000 to eliminate Nan"
   ]
  },
  {
   "cell_type": "markdown",
   "metadata": {},
   "source": [
    "# Reduce dimention of features"
   ]
  },
  {
   "cell_type": "code",
   "execution_count": 75,
   "metadata": {},
   "outputs": [],
   "source": [
    "# scale data\n",
    "train_X_fa = scale(train_X_fa)\n",
    "test_X_fa = scale(test_X_fa)\n",
    "X_sa = scale(X_sa)\n",
    "\n",
    "# reduce dimention with PCA\n",
    "pca = PCA() # reduce dimentions to the number of observations\n",
    "pca.fit(train_X_fa)\n",
    "train_X_fa = pca.transform(train_X_fa)\n",
    "test_X_fa = pca.transform(test_X_fa)\n",
    "X_sa = pca.transform(X_sa)\n",
    "\n",
    "beta_common = pca.transform(beta_common.reshape(1,-1))\n",
    "beta_diff = pca.transform(beta_diff.reshape(1,-1))"
   ]
  },
  {
   "cell_type": "markdown",
   "metadata": {},
   "source": [
    "# Build Logistic Regression, replace beta  "
   ]
  },
  {
   "cell_type": "code",
   "execution_count": 76,
   "metadata": {},
   "outputs": [],
   "source": [
    "C_best = 0.05 # obtained from last prediction\n",
    "clf = LogisticRegression(penalty='l1',C=C_best,solver='liblinear')\n",
    "clf.fit(train_X_fa,train_Y_fa)\n",
    "LR_beta_iszero = clf.coef_[0]"
   ]
  },
  {
   "cell_type": "markdown",
   "metadata": {},
   "source": [
    "## Original Precision"
   ]
  },
  {
   "cell_type": "code",
   "execution_count": 77,
   "metadata": {},
   "outputs": [
    {
     "name": "stdout",
     "output_type": "stream",
     "text": [
      "Train fa\n",
      "              precision    recall  f1-score   support\n",
      "\n",
      "           0       0.99      1.00      0.99       157\n",
      "           1       1.00      0.99      0.99       157\n",
      "\n",
      "    accuracy                           0.99       314\n",
      "   macro avg       0.99      0.99      0.99       314\n",
      "weighted avg       0.99      0.99      0.99       314\n",
      "\n",
      "\n",
      "Test fa\n",
      "              precision    recall  f1-score   support\n",
      "\n",
      "           0       0.95      1.00      0.97        78\n",
      "           1       1.00      0.95      0.97        78\n",
      "\n",
      "    accuracy                           0.97       156\n",
      "   macro avg       0.98      0.97      0.97       156\n",
      "weighted avg       0.98      0.97      0.97       156\n",
      "\n",
      "\n",
      "Sa\n",
      "              precision    recall  f1-score   support\n",
      "\n",
      "           0       0.64      0.68      0.66       235\n",
      "           1       0.66      0.63      0.64       235\n",
      "\n",
      "    accuracy                           0.65       470\n",
      "   macro avg       0.65      0.65      0.65       470\n",
      "weighted avg       0.65      0.65      0.65       470\n",
      "\n"
     ]
    }
   ],
   "source": [
    "# feature reduction \n",
    "beta_cutoff = 0.01 # value aquired from previous analysis\n",
    "mask_beta = (abs(LR_beta_iszero) > beta_cutoff)\n",
    "train_X_fa = train_X_fa[:,mask_beta]\n",
    "test_X_fa = test_X_fa[:,mask_beta]\n",
    "X_sa = X_sa[:,mask_beta]\n",
    "\n",
    "clf.fit(train_X_fa,train_Y_fa)\n",
    "\n",
    "predict_Y_ori_train_fa = clf.predict(train_X_fa)\n",
    "predict_Y_ori_test_fa = clf.predict(test_X_fa)\n",
    "predict_Y_ori_sa = clf.predict(X_sa)\n",
    "\n",
    "report_ori_train_fa = classification_report(train_Y_fa,predict_Y_ori_train_fa)\n",
    "report_ori_test_fa = classification_report(test_Y_fa,predict_Y_ori_test_fa)\n",
    "reprot_ori_sa = classification_report(Y_sa,predict_Y_ori_sa)\n",
    "\n",
    "print('Train fa')\n",
    "print(report_ori_train_fa)\n",
    "print('\\nTest fa')\n",
    "print(report_ori_test_fa)\n",
    "print('\\nSa')\n",
    "print(reprot_ori_sa)"
   ]
  },
  {
   "cell_type": "code",
   "execution_count": 63,
   "metadata": {},
   "outputs": [
    {
     "name": "stdout",
     "output_type": "stream",
     "text": [
      "              precision    recall  f1-score   support\n",
      "\n",
      "           0       0.99      1.00      0.99       157\n",
      "           1       1.00      0.99      0.99       157\n",
      "\n",
      "    accuracy                           0.99       314\n",
      "   macro avg       0.99      0.99      0.99       314\n",
      "weighted avg       0.99      0.99      0.99       314\n",
      "\n"
     ]
    }
   ],
   "source": [
    "print(report_ori)"
   ]
  },
  {
   "cell_type": "markdown",
   "metadata": {},
   "source": [
    "## predict with common beta "
   ]
  },
  {
   "cell_type": "code",
   "execution_count": 70,
   "metadata": {},
   "outputs": [
    {
     "name": "stdout",
     "output_type": "stream",
     "text": [
      "Common Train fa\n",
      "              precision    recall  f1-score   support\n",
      "\n",
      "           0       0.96      1.00      0.98       157\n",
      "           1       1.00      0.96      0.98       157\n",
      "\n",
      "    accuracy                           0.98       314\n",
      "   macro avg       0.98      0.98      0.98       314\n",
      "weighted avg       0.98      0.98      0.98       314\n",
      "\n",
      "\n",
      "Common Test fa\n",
      "              precision    recall  f1-score   support\n",
      "\n",
      "           0       0.95      0.97      0.96        78\n",
      "           1       0.97      0.95      0.96        78\n",
      "\n",
      "    accuracy                           0.96       156\n",
      "   macro avg       0.96      0.96      0.96       156\n",
      "weighted avg       0.96      0.96      0.96       156\n",
      "\n",
      "\n",
      "Common sa\n",
      "              precision    recall  f1-score   support\n",
      "\n",
      "           0       0.63      0.67      0.65       235\n",
      "           1       0.65      0.61      0.63       235\n",
      "\n",
      "    accuracy                           0.64       470\n",
      "   macro avg       0.64      0.64      0.64       470\n",
      "weighted avg       0.64      0.64      0.64       470\n",
      "\n"
     ]
    }
   ],
   "source": [
    "clf.coef_ = beta_common[0][mask_beta]\n",
    "clf.coef_ = clf.coef_.reshape(1,-1)\n",
    "\n",
    "predict_Y_common_train_fa = clf.predict(train_X_fa)\n",
    "predict_Y_common_test_fa = clf.predict(test_X_fa)\n",
    "predict_Y_common_sa = clf.predict(X_sa)\n",
    "\n",
    "report_common_train_fa = classification_report(train_Y_fa,predict_Y_common_train_fa)\n",
    "report_common_test_fa = classification_report(test_Y_fa,predict_Y_common_test_fa)\n",
    "report_common_sa = classification_report(Y_sa,predict_Y_common_sa)\n",
    "\n",
    "print('Common Train fa')\n",
    "print(report_common_train_fa)\n",
    "print('\\nCommon Test fa')\n",
    "print(report_common_test_fa)\n",
    "print('\\nCommon sa')\n",
    "print(report_common_sa)"
   ]
  },
  {
   "cell_type": "markdown",
   "metadata": {},
   "source": [
    "## predict with diff beta"
   ]
  },
  {
   "cell_type": "code",
   "execution_count": 71,
   "metadata": {},
   "outputs": [
    {
     "name": "stdout",
     "output_type": "stream",
     "text": [
      "Diff Train fa\n",
      "              precision    recall  f1-score   support\n",
      "\n",
      "           0       0.00      0.00      0.00       157\n",
      "           1       0.04      0.04      0.04       157\n",
      "\n",
      "    accuracy                           0.02       314\n",
      "   macro avg       0.02      0.02      0.02       314\n",
      "weighted avg       0.02      0.02      0.02       314\n",
      "\n",
      "\n",
      "Diff Test fa\n",
      "              precision    recall  f1-score   support\n",
      "\n",
      "           0       0.03      0.03      0.03        78\n",
      "           1       0.05      0.05      0.05        78\n",
      "\n",
      "    accuracy                           0.04       156\n",
      "   macro avg       0.04      0.04      0.04       156\n",
      "weighted avg       0.04      0.04      0.04       156\n",
      "\n",
      "\n",
      "Diff sa\n",
      "              precision    recall  f1-score   support\n",
      "\n",
      "           0       0.35      0.33      0.34       235\n",
      "           1       0.37      0.39      0.38       235\n",
      "\n",
      "    accuracy                           0.36       470\n",
      "   macro avg       0.36      0.36      0.36       470\n",
      "weighted avg       0.36      0.36      0.36       470\n",
      "\n"
     ]
    }
   ],
   "source": [
    "clf.coef_ = beta_diff[0][mask_beta]\n",
    "clf.coef_ = clf.coef_.reshape(1,-1)\n",
    "\n",
    "predict_Y_diff_train_fa = clf.predict(train_X_fa)\n",
    "predict_Y_diff_test_fa = clf.predict(test_X_fa)\n",
    "predict_Y_diff_sa = clf.predict(X_sa)\n",
    "\n",
    "report_diff_train_fa = classification_report(train_Y_fa,predict_Y_diff_train_fa)\n",
    "report_diff_test_fa = classification_report(test_Y_fa,predict_Y_diff_test_fa)\n",
    "report_diff_sa = classification_report(Y_sa,predict_Y_diff_sa)\n",
    "\n",
    "print('Diff Train fa')\n",
    "print(report_diff_train_fa)\n",
    "print('\\nDiff Test fa')\n",
    "print(report_diff_test_fa)\n",
    "print('\\nDiff sa')\n",
    "print(report_diff_sa)"
   ]
  },
  {
   "cell_type": "code",
   "execution_count": null,
   "metadata": {},
   "outputs": [],
   "source": []
  }
 ],
 "metadata": {
  "kernelspec": {
   "display_name": "Python 3",
   "language": "python",
   "name": "python3"
  },
  "language_info": {
   "codemirror_mode": {
    "name": "ipython",
    "version": 3
   },
   "file_extension": ".py",
   "mimetype": "text/x-python",
   "name": "python",
   "nbconvert_exporter": "python",
   "pygments_lexer": "ipython3",
   "version": "3.8.5"
  }
 },
 "nbformat": 4,
 "nbformat_minor": 4
}
